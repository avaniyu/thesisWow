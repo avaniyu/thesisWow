{
 "cells": [
  {
   "cell_type": "code",
   "execution_count": 12,
   "metadata": {},
   "outputs": [
    {
     "name": "stdout",
     "output_type": "stream",
     "text": [
      "18\n",
      "11.69864460618576\n",
      "3.57700034719347\n"
     ]
    }
   ],
   "source": [
    "%matplotlib notebook\t\n",
    "import csv\n",
    "from __future__ import print_function\n",
    "import ipywidgets as widgets\n",
    "from IPython.display import display, clear_output\n",
    "import matplotlib.pyplot as plt\n",
    "plt.style.use('ggplot')\n",
    "import numpy as np\n",
    "\n",
    "class Sentence:\n",
    "\t# class variables here\n",
    "\tdef __init__(self, sentenceNo, testing):\n",
    "\t\t# instance variables here\n",
    "\t\tself.sentenceNo = sentenceNo\n",
    "\t\tself.testing = testing\t\t# 0: practice; 1: test\n",
    "\t\tself.wpm = 0.0\n",
    "\t\tself.adjWpm = 0.0\n",
    "\t\tself.totErrRate = 0.0\n",
    "\t\tself.uncErrRate = 0.0\n",
    "\t\tself.corErrRate = 0.0\n",
    "\n",
    "def readSentences(argSentences):\n",
    "\twith open('myTyping.csv') as csvDataFile:\n",
    "\t\tcsvReader = csv.reader(csvDataFile)\n",
    "\t\tnext(csvReader, None)\n",
    "\t\tnext(csvReader, None)\n",
    "\t\tfor row in csvReader:\n",
    "\t\t\targSentences.append(Sentence(int(row[0]), int(row[1])))\n",
    "\t\t\t# exclude exceptions that the test participant didn't enter anything and skipped this sentence\t\t\t\n",
    "\t\t\tif float(row[3]) != 0:\t\t\n",
    "\t\t\t\tsentences[-1].wpm = float(row[3])\n",
    "\t\t\t\tsentences[-1].adjWpm = float(row[4])\n",
    "\t\t\t\tsentences[-1].totErrRate = float(row[11])\n",
    "\t\t\t\tsentences[-1].uncErrRate = float(row[9])\n",
    "\t\t\t\tsentences[-1].corErrRate = float(row[10])\n",
    "\n",
    "def getAverageTypingPerformance(argSentences):\n",
    "\tmyAdjWpm = []\n",
    "\tfor i in range(len(argSentences)):\n",
    "\t\tmyAdjWpm.append(argSentences[i].adjWpm)\n",
    "\tmeanAdjWpm = np.mean(myAdjWpm)\n",
    "\tsdAdjWpm = np.std(myAdjWpm)\n",
    "\tmyAdjWpm.clear()\n",
    "\tfor i in range(len(argSentences)):\n",
    "\t\tif abs(argSentences[i].adjWpm - meanAdjWpm) <= 2 * sdAdjWpm:\n",
    "\t\t\tmyAdjWpm.append(argSentences[i].adjWpm)\n",
    "\tprint(len(myAdjWpm))\n",
    "\tprint(np.mean(myAdjWpm))\n",
    "\tprint(np.std(myAdjWpm))\n",
    "\n",
    "\n",
    "if __name__==\"__main__\":\n",
    "\tsentences=[]\n",
    "\treadSentences(sentences)\n",
    "\tgetAverageTypingPerformance(sentences)\n",
    "\n"
   ]
  }
 ],
 "metadata": {
  "kernelspec": {
   "display_name": "Python 3",
   "language": "python",
   "name": "python3"
  },
  "language_info": {
   "codemirror_mode": {
    "name": "ipython",
    "version": 3
   },
   "file_extension": ".py",
   "mimetype": "text/x-python",
   "name": "python",
   "nbconvert_exporter": "python",
   "pygments_lexer": "ipython3",
   "version": "3.6.4"
  }
 },
 "nbformat": 4,
 "nbformat_minor": 2
}
