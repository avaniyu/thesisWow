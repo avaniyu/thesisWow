{
 "cells": [
  {
   "cell_type": "code",
   "execution_count": 49,
   "metadata": {},
   "outputs": [
    {
     "data": {
      "application/vnd.jupyter.widget-view+json": {
       "model_id": "93d006d8a8004820882841afff773136",
       "version_major": 2,
       "version_minor": 0
      },
      "text/html": [
       "<p>Failed to display Jupyter Widget of type <code>HBox</code>.</p>\n",
       "<p>\n",
       "  If you're reading this message in the Jupyter Notebook or JupyterLab Notebook, it may mean\n",
       "  that the widgets JavaScript is still loading. If this message persists, it\n",
       "  likely means that the widgets JavaScript library is either not installed or\n",
       "  not enabled. See the <a href=\"https://ipywidgets.readthedocs.io/en/stable/user_install.html\">Jupyter\n",
       "  Widgets Documentation</a> for setup instructions.\n",
       "</p>\n",
       "<p>\n",
       "  If you're reading this message in another frontend (for example, a static\n",
       "  rendering on GitHub or <a href=\"https://nbviewer.jupyter.org/\">NBViewer</a>),\n",
       "  it may mean that your frontend doesn't currently support widgets.\n",
       "</p>\n"
      ],
      "text/plain": [
       "HBox(children=(ToggleButtons(description='Type performance', options=('Speed (wpm)', 'Accuracy (totErrRate)'), value='Speed (wpm)'), Select(description='Task:', options=('All', 'Transcribe', 'Free Conversation'), value='All'), Select(description='Test Subject:', options=('All', '#1', '#2', '#3'), value='All')))"
      ]
     },
     "metadata": {},
     "output_type": "display_data"
    },
    {
     "name": "stdout",
     "output_type": "stream",
     "text": [
      "task\n",
      "task\n",
      "task\n",
      "task\n"
     ]
    }
   ],
   "source": [
    "%matplotlib notebook\t\n",
    "import csv\n",
    "from __future__ import print_function\n",
    "import ipywidgets as widgets\n",
    "from IPython.display import display\n",
    "import matplotlib.pyplot as plt \n",
    "plt.style.use('ggplot')\n",
    "\n",
    "\n",
    "# create Sentence class\n",
    "class Sentence:\n",
    "\t# class variable shared by all instances\n",
    "\tdef __init__(self, subject, task, sentenceNo, testing):\n",
    "\t\t# instance variable unique to each instance\n",
    "\t\tself.subject = subject\n",
    "\t\tself.task = task\t\t\t# 0: transcribe; 1: free conversation\n",
    "\t\tself.sentenceNo = sentenceNo\n",
    "\t\tself.testing = testing\n",
    "\t\tself.P = \"\"\n",
    "\t\tself.T = \"\"\n",
    "\t\tself.IS = \"\"\n",
    "\t\tself.wpm = 0.0\n",
    "\t\tself.totErrRate = 0.0\n",
    "\t\tself.keyboard = 0\t# 0: win10 Eye Control; 1: tobii Win Control\n",
    "\n",
    "def readSentences(argFilename, argSentences):\n",
    "\twith open('RawData/'+argFilename+'.csv') as csvDataFile:\n",
    "\t\tcsvReader = csv.reader(csvDataFile)\n",
    "\t\tnext(csvReader, None)\n",
    "\t\tnext(csvReader, None)\n",
    "\t\tfor row in csvReader:\n",
    "\t\t\t# write on keyboard clasification\n",
    "\t\t\tif 'Transcribe' in argFilename:\n",
    "\t\t\t\targSentences.append(Sentence(int(argFilename[0]), 0, int(row[0]), int(row[1])))\n",
    "\t\t\telif 'FreeConv' in argFilename:\n",
    "\t\t\t\targSentences.append(Sentence(int(argFilename[0]), 1, int(row[0]), int(row[1])))\n",
    "\t\t\t# handle exceptions\n",
    "\t\t\t# if test subject didn't enter anything and skipped this sentence\n",
    "\t\t\tif int(row[2]) != 0:\n",
    "\t\t\t\tsentences[-1].wpm = int(row[4])+int(row[5])*0.1**(len(row[5]))\n",
    "\t\t\t\tsentences[-1].totErrRate = int(row[-14])*0.1**(len(row[-14]))\n",
    "\t\t\telse:\n",
    "\t\t\t\tsentences[-1].wpm = 0\n",
    "\t\t\t\tsentences[-1].totErrRate = 1\n",
    "\t\t\tif 'winEyeControl' in argFilename:\n",
    "\t\t\t\tsentences[-1].keyboard = 0\n",
    "\t\t\telif 'tobiiWinControl' in argFilename:\n",
    "\t\t\t\tsentences[-1].keyboard = 1\n",
    "\n",
    "def UiControls():\n",
    "\tcontrSubject = widgets.Select(\n",
    "\t\toptions=['All', '#1', '#2', '#3'],\n",
    "\t\tvalue='All',\n",
    "\t\tdescription='Test Subject:',\n",
    "\t\tdisabled=False\n",
    "\t\t)\n",
    "\tcontrTask = widgets.Select(\n",
    "\t\toptions=['All', 'Transcribe', 'Free Conversation'],\n",
    "\t\tvalue='All',\n",
    "\t\tdescription='Task:',\n",
    "\t\tdisabled=False\n",
    "\t\t)\n",
    "\tcontrTypePerf = widgets.ToggleButtons(\n",
    "\t\toptions=['Speed (wpm)', 'Accuracy (totErrRate)'],\n",
    "\t\tvalue='Speed (wpm)',\n",
    "\t\tdescription='Type performance',\n",
    "\t\tdisabled=False,\n",
    "\t\tbutton_style=''\n",
    "\t\t)\n",
    "\tdisplay(widgets.HBox([contrTypePerf, contrTask, contrSubject]))\n",
    "\n",
    "\tcontrTypePerf.observe(onChange_typePerf)\n",
    "\tcontrTask.observe(onChange_task)\n",
    "\tcontrSubject.observe(onChange_subject)\n",
    "\n",
    "def onChange_typePerf(b):\n",
    "\treturn contrTypePerf.value\n",
    "\n",
    "def onChange_task(change):\n",
    "\tif change['type'] == 'change' and change['name'] == 'value':\n",
    "\t\tprint('task')\n",
    "\n",
    "def onChange_subject(change):\n",
    "\tprint('subject')\n",
    "\n",
    "if __name__ == \"__main__\":\n",
    "\t# read data from .csv\n",
    "\tsentences = []\n",
    "\treadSentences('1Greta_s1Transcribe_winEyeControl', sentences)\n",
    "\treadSentences('1Greta_s2Transcibe_tobiiWinControl', sentences)\n",
    "\treadSentences('2Carlota_s1Transcribe_winEyeControl', sentences)\n",
    "\treadSentences('2Carlota_s2FreeConv_winEyeControl', sentences)\n",
    "\treadSentences('2Carlota_s3Transcribe_tobiiWinControl', sentences)\n",
    "\treadSentences('2Carlota_s4FreeConv_tobiiWinControl', sentences)\n",
    "\treadSentences('3Barbara_s1Transcribe_tobiiWinControl', sentences)\n",
    "\treadSentences('3Barbara_s2FreeConv_tobiiWinControl', sentences)\n",
    "\treadSentences('3Barbara_s3Transcribe_winEyeControl', sentences)\n",
    "\treadSentences('3Barbara_s4FreeConv_winEyeControl', sentences)\n",
    "\n",
    "\tUiControls()\n",
    "\n",
    "\t# calculate wpm, total error-rate on sentence, task, subject, keyboard respectively\n",
    "\t# X: keyboard | Y: typing performance | other variables: subject, task\n",
    "\n",
    "\n",
    "\t# plots\n",
    "\t# using ipywidgets to make interactive plots"
   ]
  },
  {
   "cell_type": "code",
   "execution_count": 44,
   "metadata": {},
   "outputs": [
    {
     "data": {
      "text/plain": [
       "'All'"
      ]
     },
     "execution_count": 44,
     "metadata": {},
     "output_type": "execute_result"
    }
   ],
   "source": [
    "contrTask.value"
   ]
  }
 ],
 "metadata": {
  "kernelspec": {
   "display_name": "Python 3",
   "language": "python",
   "name": "python3"
  },
  "language_info": {
   "codemirror_mode": {
    "name": "ipython",
    "version": 3
   },
   "file_extension": ".py",
   "mimetype": "text/x-python",
   "name": "python",
   "nbconvert_exporter": "python",
   "pygments_lexer": "ipython3",
   "version": "3.6.1"
  }
 },
 "nbformat": 4,
 "nbformat_minor": 2
}
