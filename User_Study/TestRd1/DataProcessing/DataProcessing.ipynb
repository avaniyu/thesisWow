{
 "cells": [
  {
   "cell_type": "code",
   "execution_count": 59,
   "metadata": {},
   "outputs": [],
   "source": [
    "import csv\n",
    "\n",
    "# create Sentence class\n",
    "class Sentence:\n",
    "\t# class variable shared by all instances\n",
    "\tdef __init__(self, subject, task, sentenceNo, testing):\n",
    "\t\t# instance variable unique to each instance\n",
    "\t\tself.subject = subject\n",
    "\t\tself.task = task\t\t\t# 0: transcribe; 1: free conversation\n",
    "\t\tself.sentenceNo = sentenceNo\n",
    "\t\tself.testing = testing\n",
    "\t\tself.P = \"\"\n",
    "\t\tself.T = \"\"\n",
    "\t\tself.IS = \"\"\n",
    "\t\tself.wpm = 0.0\n",
    "\t\tself.totErrRate = 0.0\n",
    "\t\tself.keyboard = 0\t# 0: win10 Eye Control; 1: tobii Win Control\n",
    "\n",
    "\n",
    "def readSentences(argFilename, argSentences):\n",
    "\twith open('RawData/'+argFilename+'.csv') as csvDataFile:\n",
    "\t\tcsvReader = csv.reader(csvDataFile)\n",
    "\t\tnext(csvReader, None)\n",
    "\t\tnext(csvReader, None)\n",
    "\t\tfor row in csvReader:\n",
    "\t\t\t# write on keyboard clasification\n",
    "\t\t\tif 'Transcribe' in argFilename:\n",
    "\t\t\t\targSentences.append(Sentence(int(argFilename[0]), 0, int(row[0]), int(row[1])))\n",
    "\t\t\telif 'FreeConv' in argFilename:\n",
    "\t\t\t\targSentences.append(Sentence(int(argFilename[0]), 1, int(row[0]), int(row[1])))\n",
    "\t\t\t# handle exceptions\n",
    "\t\t\t# if test subject didn't enter anything and skipped this sentence\n",
    "\t\t\tif int(row[2]) != 0:\n",
    "\t\t\t\tsentences[-1].wpm = int(row[4])+int(row[5])*0.1**(len(row[5]))\n",
    "\t\t\t\tsentences[-1].totErrRate = int(row[-14])*0.1**(len(row[-14]))\n",
    "\t\t\telse:\n",
    "\t\t\t\tsentences[-1].wpm = 0\n",
    "\t\t\t\tsentences[-1].totErrRate = 1\n",
    "\t\t\tif 'winEyeControl' in argFilename:\n",
    "\t\t\t\tsentences[-1].keyboard = 0\n",
    "\t\t\telif 'tobiiWinControl' in argFilename:\n",
    "\t\t\t\tsentences[-1].keyboard = 1\n",
    "\n",
    "\n",
    "if __name__ == \"__main__\":\n",
    "\t# read data from .csv\n",
    "\tsentences = []\n",
    "\treadSentences('1Greta_s1Transcribe_winEyeControl', sentences)\n",
    "\treadSentences('1Greta_s2Transcibe_tobiiWinControl', sentences)\n",
    "\treadSentences('2Carlota_s1Transcribe_winEyeControl', sentences)\n",
    "\treadSentences('2Carlota_s2FreeConv_winEyeControl', sentences)\n",
    "\treadSentences('2Carlota_s3Transcribe_tobiiWinControl', sentences)\n",
    "\treadSentences('2Carlota_s4FreeConv_tobiiWinControl', sentences)\n",
    "\treadSentences('3Barbara_s1Transcribe_tobiiWinControl', sentences)\n",
    "\treadSentences('3Barbara_s2FreeConv_tobiiWinControl', sentences)\n",
    "\treadSentences('3Barbara_s3Transcribe_winEyeControl', sentences)\n",
    "\treadSentences('3Barbara_s4FreeConv_winEyeControl', sentences)\n",
    "\n",
    "\t# calculate wpm, total error-rate on sentence, task, subject, keyboard respectively\n",
    "\n",
    "\n",
    "\t# plots\n",
    "\t# using ipywidgets to make interactive plots"
   ]
  },
  {
   "cell_type": "code",
   "execution_count": 61,
   "metadata": {},
   "outputs": [
    {
     "data": {
      "text/plain": [
       "0"
      ]
     },
     "execution_count": 61,
     "metadata": {},
     "output_type": "execute_result"
    }
   ],
   "source": [
    "sentences[-1].keyboard"
   ]
  }
 ],
 "metadata": {
  "kernelspec": {
   "display_name": "Python 3",
   "language": "python",
   "name": "python3"
  },
  "language_info": {
   "codemirror_mode": {
    "name": "ipython",
    "version": 3
   },
   "file_extension": ".py",
   "mimetype": "text/x-python",
   "name": "python",
   "nbconvert_exporter": "python",
   "pygments_lexer": "ipython3",
   "version": "3.6.3"
  }
 },
 "nbformat": 4,
 "nbformat_minor": 2
}
