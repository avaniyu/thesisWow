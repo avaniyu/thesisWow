{
 "cells": [
  {
   "cell_type": "code",
   "execution_count": 11,
   "metadata": {
    "scrolled": true
   },
   "outputs": [
    {
     "data": {
      "application/vnd.jupyter.widget-view+json": {
       "model_id": "3929c148379143b3964cc71fb08934ef",
       "version_major": 2,
       "version_minor": 0
      },
      "text/plain": [
       "A Jupyter Widget"
      ]
     },
     "metadata": {},
     "output_type": "display_data"
    },
    {
     "data": {
      "application/vnd.jupyter.widget-view+json": {
       "model_id": "8a7020be49e74467ab8f5eb6165f61f8",
       "version_major": 2,
       "version_minor": 0
      },
      "text/plain": [
       "A Jupyter Widget"
      ]
     },
     "metadata": {},
     "output_type": "display_data"
    },
    {
     "name": "stdout",
     "output_type": "stream",
     "text": [
      "95\n",
      "0\n",
      "0\n",
      "14\n",
      "14\n",
      "14\n",
      "14\n",
      "28\n",
      "28\n",
      "28\n"
     ]
    }
   ],
   "source": [
    "%matplotlib notebook\t\n",
    "import csv\n",
    "from __future__ import print_function\n",
    "import ipywidgets as widgets\n",
    "from IPython.display import display, clear_output\n",
    "import matplotlib.pyplot as plt \n",
    "plt.style.use('ggplot')\n",
    "import numpy as np\n",
    "\n",
    "class Sentence:\n",
    "\t# class variables here\n",
    "\tdef __init__(self, subject, task, sentenceNo, testing):\n",
    "\t\t# instance variables here\n",
    "\t\tself.subject = subject\n",
    "\t\tself.task = task\t\t\t# 0: transcribe; 1: free conversation\n",
    "\t\tself.sentenceNo = sentenceNo\n",
    "\t\tself.testing = testing\t\t# 0: practice; 1: test\n",
    "\t\tself.keyboard = 0\t\t\t# 0: win EyeControl; 1: tobii WinControl\n",
    "\t\tself.wpm = 0.0\n",
    "\t\tself.totErrRate = 0.0\n",
    "\n",
    "def readSentences(argFilename, argSentences):\n",
    "\twith open('RawData/'+argFilename+'.csv') as csvDataFile:\n",
    "\t\tcsvReader = csv.reader(csvDataFile)\n",
    "\t\tnext(csvReader, None)\n",
    "\t\tnext(csvReader, None)\n",
    "\t\tfor row in csvReader:\n",
    "\t\t\tif 'Transcribe' in argFilename:\n",
    "\t\t\t\targSentences.append(Sentence(int(argFilename[0])-1, 0, int(row[0]), int(row[1])))\n",
    "\t\t\telif 'FreeConv' in argFilename:\n",
    "\t\t\t\targSentences.append(Sentence(int(argFilename[0])-1, 1, int(row[0]), int(row[1])))\n",
    "\t\t\t# exclude exceptions that the test subject didn't enter anything and skipped this sentence\t\t\t\n",
    "\t\t\tif int(row[2]) != 0:\n",
    "\t\t\t\tsentences[-1].wpm = int(row[4])+int(row[5])*0.1**(len(row[5]))\n",
    "\t\t\t\tsentences[-1].totErrRate = int(row[-14])*0.1**(len(row[-14]))\n",
    "\t\t\telse:\n",
    "\t\t\t\tsentences[-1].wpm = 0\n",
    "\t\t\t\tsentences[-1].totErrRate = 1\n",
    "\t\t\tif 'winEyeControl' in argFilename:\n",
    "\t\t\t\tsentences[-1].keyboard = 0\n",
    "\t\t\telif 'tobiiWinControl' in argFilename:\n",
    "\t\t\t\tsentences[-1].keyboard = 1\t\t\t\t\n",
    "\n",
    "def onChange_metric(b):\n",
    "\tif b['type']=='change' and b['name']=='value':\n",
    "\t\textractSentences()\n",
    "\n",
    "def onChange_task(change):\n",
    "\tif change['type']=='change' and change['name']=='value':\n",
    "\t\textractSentences()\n",
    "\n",
    "def onChange_subject(change):\n",
    "\tif change['type']=='change' and change['name']=='value':\n",
    "\t\textractSentences()\n",
    "\n",
    "def extractSentences():\n",
    "\tfor item in sentences:\n",
    "\t\tif item.testing == 1:\n",
    "\t\t\tif ('1' in contrOfSubject.value and item.subject == 0) or ('2' in contrOfSubject.value and item.subject == 1) or ('3' in contrOfSubject.value and item.subject == 2) or ('All' or 'Between') in contrOfSubject.value:\n",
    "\t\t\t\tif ('Transcription' in contrOfTask.value and item.task == 0) or ('Conversation' in contrOfTask.value and item.task == 1) or ('Both' or 'Between') in contrOfTask.value:\n",
    "\t\t\t\t\tperSubjTaskWpm[(int(contrOfSubject.value[1])-1)*amountTask+item.task].append(item.wpm)\n",
    "\t\t\t\t\tperSubjTaskTotErrRate[(int(contrOfSubject.value[1])-1)*amountTask+item.task].append(item.totErrRate)\n",
    "\t\t\t\t\tperSubjTaskSentenceNo[(int(contrOfSubject.value[1])-1)*amountTask+item.task].append(item.sentenceNo)\n",
    "\tif 'Speed' in contrMetric.value:\n",
    "\t\tplotSpeed()\n",
    "\telif 'Accuracy' in contrMetric.value:\n",
    "\t\tplotAccuracy()\n",
    "\telif 'Learning' in contrMetric.value:\n",
    "\t\tplotLearningCurve()\n",
    "\tprint(len(perSubjTaskSentenceNo[0]))\n",
    "\n",
    "def plotSpeed():\n",
    "\tpass\n",
    "\n",
    "def plotAccuracy():\n",
    "\tplotSpeed()\n",
    "\n",
    "def plotLearningCurve():\n",
    "\tpass\n",
    "\n",
    "if __name__ == \"__main__\":\n",
    "\tsentences = []\t\n",
    "\tamountSubject = 3\n",
    "\tamountTask = 2\n",
    "\tamountKeyboard = 2\n",
    "\tcolor = ['gray', '#01ac66']\t\t# dynavox green\n",
    "\tlabelKeybd = ['win10 Eye Control', 'tobii Windows Control']\n",
    "\n",
    "\tperSubjTaskWpm, perSubjTaskTotErrRate, perSubjTaskSentenceNo = ([[] for i in range(amountSubject * amountTask)] for j in range(3))\t\n",
    "\n",
    "\t# readSentences()\n",
    "\tfilenames = ['1Greta_s1Transcribe_winEyeControl', '1Greta_s2Transcribe_tobiiWinControl', '2Carlota_s1Transcribe_winEyeControl', '2Carlota_s2FreeConv_winEyeControl', '2Carlota_s3Transcribe_tobiiWinControl',\n",
    "\t\t\t\t'2Carlota_s4FreeConv_tobiiWinControl', '3Barbara_s1Transcribe_tobiiWinControl', '3Barbara_s2FreeConv_tobiiWinControl', '3Barbara_s3Transcribe_winEyeControl', '3Barbara_s4FreeConv_winEyeControl']\n",
    "\tfor item in filenames:\n",
    "\t\treadSentences(item, sentences)\n",
    "\n",
    "\t# define UI controls\n",
    "\tcontrMetric = widgets.ToggleButtons(\n",
    "\t\toptions=['Speed', 'Accuracy', 'Learning Curve'],\n",
    "\t\tdescription = 'Metric: ',\n",
    "\t\tvalue = 'Speed',\n",
    "\t\tdisabled = False\n",
    "\t\t)\n",
    "\tcontrOfTask = widgets.Select(\n",
    "\t\toptions = ['Both Tasks', 'Sentence Transcription', 'Q&A Conversation', 'Between Tasks'],\n",
    "\t\tdescription = 'Of Task: ',\n",
    "\t\tvalue = 'Sentence Transcription',\n",
    "\t\tdisabled = False\n",
    "\t\t)\n",
    "\tcontrOfSubject = widgets.Select(\n",
    "\t\toptions = ['All Subjects', '#1', '#2', '#3', 'Between Subjects'],\n",
    "\t\tdescription = 'Of Subject: ',\n",
    "\t\tvalue = '#2',\n",
    "\t\tdisabled = False\n",
    "\t\t)\n",
    "\tdisplay(contrMetric, widgets.HBox([contrOfTask, contrOfSubject]))\n",
    "\tcontrMetric.observe(onChange_metric)\n",
    "\tcontrOfTask.observe(onChange_task)\n",
    "\tcontrOfSubject.observe(onChange_subject)\n",
    "\tprint(len(sentences)) "
   ]
  },
  {
   "cell_type": "code",
   "execution_count": 6,
   "metadata": {},
   "outputs": [
    {
     "data": {
      "text/plain": [
       "[[], [], [], [], [], []]"
      ]
     },
     "execution_count": 6,
     "metadata": {},
     "output_type": "execute_result"
    }
   ],
   "source": [
    "[[] for i in range (3 * 2)]"
   ]
  }
 ],
 "metadata": {
  "kernelspec": {
   "display_name": "Python 3",
   "language": "python",
   "name": "python3"
  },
  "language_info": {
   "codemirror_mode": {
    "name": "ipython",
    "version": 3
   },
   "file_extension": ".py",
   "mimetype": "text/x-python",
   "name": "python",
   "nbconvert_exporter": "python",
   "pygments_lexer": "ipython3",
   "version": "3.6.3"
  }
 },
 "nbformat": 4,
 "nbformat_minor": 2
}
