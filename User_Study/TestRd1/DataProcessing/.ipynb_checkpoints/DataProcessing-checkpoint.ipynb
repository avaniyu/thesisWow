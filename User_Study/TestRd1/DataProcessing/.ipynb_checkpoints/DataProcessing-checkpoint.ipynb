{
 "cells": [
  {
   "cell_type": "code",
   "execution_count": 13,
   "metadata": {},
   "outputs": [
    {
     "data": {
      "application/vnd.jupyter.widget-view+json": {
       "model_id": "162a90387eac4178ba008c8125a7265d",
       "version_major": 2,
       "version_minor": 0
      },
      "text/html": [
       "<p>Failed to display Jupyter Widget of type <code>Select</code>.</p>\n",
       "<p>\n",
       "  If you're reading this message in the Jupyter Notebook or JupyterLab Notebook, it may mean\n",
       "  that the widgets JavaScript is still loading. If this message persists, it\n",
       "  likely means that the widgets JavaScript library is either not installed or\n",
       "  not enabled. See the <a href=\"https://ipywidgets.readthedocs.io/en/stable/user_install.html\">Jupyter\n",
       "  Widgets Documentation</a> for setup instructions.\n",
       "</p>\n",
       "<p>\n",
       "  If you're reading this message in another frontend (for example, a static\n",
       "  rendering on GitHub or <a href=\"https://nbviewer.jupyter.org/\">NBViewer</a>),\n",
       "  it may mean that your frontend doesn't currently support widgets.\n",
       "</p>\n"
      ],
      "text/plain": [
       "Select(description='Test Subject:', options=('All', '#1', '#2', '#3'), value='All')"
      ]
     },
     "metadata": {},
     "output_type": "display_data"
    },
    {
     "data": {
      "application/vnd.jupyter.widget-view+json": {
       "model_id": "a156e08753d7443d8b1eb1612e83ae2b",
       "version_major": 2,
       "version_minor": 0
      },
      "text/html": [
       "<p>Failed to display Jupyter Widget of type <code>Select</code>.</p>\n",
       "<p>\n",
       "  If you're reading this message in the Jupyter Notebook or JupyterLab Notebook, it may mean\n",
       "  that the widgets JavaScript is still loading. If this message persists, it\n",
       "  likely means that the widgets JavaScript library is either not installed or\n",
       "  not enabled. See the <a href=\"https://ipywidgets.readthedocs.io/en/stable/user_install.html\">Jupyter\n",
       "  Widgets Documentation</a> for setup instructions.\n",
       "</p>\n",
       "<p>\n",
       "  If you're reading this message in another frontend (for example, a static\n",
       "  rendering on GitHub or <a href=\"https://nbviewer.jupyter.org/\">NBViewer</a>),\n",
       "  it may mean that your frontend doesn't currently support widgets.\n",
       "</p>\n"
      ],
      "text/plain": [
       "Select(description='Task:', index=2, options=('Transcribe', 'Free Conversation', 'All'), value='All')"
      ]
     },
     "metadata": {},
     "output_type": "display_data"
    },
    {
     "data": {
      "application/vnd.jupyter.widget-view+json": {
       "model_id": "10de96efb3694509a99afeed8963a4a8",
       "version_major": 2,
       "version_minor": 0
      },
      "text/html": [
       "<p>Failed to display Jupyter Widget of type <code>ToggleButtons</code>.</p>\n",
       "<p>\n",
       "  If you're reading this message in the Jupyter Notebook or JupyterLab Notebook, it may mean\n",
       "  that the widgets JavaScript is still loading. If this message persists, it\n",
       "  likely means that the widgets JavaScript library is either not installed or\n",
       "  not enabled. See the <a href=\"https://ipywidgets.readthedocs.io/en/stable/user_install.html\">Jupyter\n",
       "  Widgets Documentation</a> for setup instructions.\n",
       "</p>\n",
       "<p>\n",
       "  If you're reading this message in another frontend (for example, a static\n",
       "  rendering on GitHub or <a href=\"https://nbviewer.jupyter.org/\">NBViewer</a>),\n",
       "  it may mean that your frontend doesn't currently support widgets.\n",
       "</p>\n"
      ],
      "text/plain": [
       "ToggleButtons(description='Type performance', options=('Speed (wpm)', 'Accuracy (totErrRate)'), value='Speed (wpm)')"
      ]
     },
     "metadata": {},
     "output_type": "display_data"
    }
   ],
   "source": [
    "import csv\n",
    "from __future__ import print_function\n",
    "from ipywidgets import interact, interactive, fixed, interact_manual\n",
    "import ipywidgets as widgets\n",
    "from IPython.display import display\n",
    "\n",
    "# create Sentence class\n",
    "class Sentence:\n",
    "\t# class variable shared by all instances\n",
    "\tdef __init__(self, subject, task, sentenceNo, testing):\n",
    "\t\t# instance variable unique to each instance\n",
    "\t\tself.subject = subject\n",
    "\t\tself.task = task\t\t\t# 0: transcribe; 1: free conversation\n",
    "\t\tself.sentenceNo = sentenceNo\n",
    "\t\tself.testing = testing\n",
    "\t\tself.P = \"\"\n",
    "\t\tself.T = \"\"\n",
    "\t\tself.IS = \"\"\n",
    "\t\tself.wpm = 0.0\n",
    "\t\tself.totErrRate = 0.0\n",
    "\t\tself.keyboard = 0\t# 0: win10 Eye Control; 1: tobii Win Control\n",
    "\n",
    "def readSentences(argFilename, argSentences):\n",
    "\twith open('RawData/'+argFilename+'.csv') as csvDataFile:\n",
    "\t\tcsvReader = csv.reader(csvDataFile)\n",
    "\t\tnext(csvReader, None)\n",
    "\t\tnext(csvReader, None)\n",
    "\t\tfor row in csvReader:\n",
    "\t\t\t# write on keyboard clasification\n",
    "\t\t\tif 'Transcribe' in argFilename:\n",
    "\t\t\t\targSentences.append(Sentence(int(argFilename[0]), 0, int(row[0]), int(row[1])))\n",
    "\t\t\telif 'FreeConv' in argFilename:\n",
    "\t\t\t\targSentences.append(Sentence(int(argFilename[0]), 1, int(row[0]), int(row[1])))\n",
    "\t\t\t# handle exceptions\n",
    "\t\t\t# if test subject didn't enter anything and skipped this sentence\n",
    "\t\t\tif int(row[2]) != 0:\n",
    "\t\t\t\tsentences[-1].wpm = int(row[4])+int(row[5])*0.1**(len(row[5]))\n",
    "\t\t\t\tsentences[-1].totErrRate = int(row[-14])*0.1**(len(row[-14]))\n",
    "\t\t\telse:\n",
    "\t\t\t\tsentences[-1].wpm = 0\n",
    "\t\t\t\tsentences[-1].totErrRate = 1\n",
    "\t\t\tif 'winEyeControl' in argFilename:\n",
    "\t\t\t\tsentences[-1].keyboard = 0\n",
    "\t\t\telif 'tobiiWinControl' in argFilename:\n",
    "\t\t\t\tsentences[-1].keyboard = 1\n",
    "\n",
    "# UI controls\n",
    "# def selectSubject(argSubject):\n",
    "# \treturn argSubject\n",
    "# def selectTask(argTask):\n",
    "# \treturn argTask\n",
    "# def selectTypePerf(argTypePerf):\n",
    "# \treturn argTypePerf\n",
    "# def selectKeyboard(argKeyboard):\n",
    "# \treturn argKeyboard\n",
    "\n",
    "if __name__ == \"__main__\":\n",
    "\t# read data from .csv\n",
    "\tsentences = []\n",
    "\treadSentences('1Greta_s1Transcribe_winEyeControl', sentences)\n",
    "\treadSentences('1Greta_s2Transcibe_tobiiWinControl', sentences)\n",
    "\treadSentences('2Carlota_s1Transcribe_winEyeControl', sentences)\n",
    "\treadSentences('2Carlota_s2FreeConv_winEyeControl', sentences)\n",
    "\treadSentences('2Carlota_s3Transcribe_tobiiWinControl', sentences)\n",
    "\treadSentences('2Carlota_s4FreeConv_tobiiWinControl', sentences)\n",
    "\treadSentences('3Barbara_s1Transcribe_tobiiWinControl', sentences)\n",
    "\treadSentences('3Barbara_s2FreeConv_tobiiWinControl', sentences)\n",
    "\treadSentences('3Barbara_s3Transcribe_winEyeControl', sentences)\n",
    "\treadSentences('3Barbara_s4FreeConv_winEyeControl', sentences)\n",
    "\n",
    "\t# interact(selectSubject, x={'1':0, '2':1, '3':2})\n",
    "\tcontrSubject = widgets.Select(\n",
    "\t\toptions=['All', '#1', '#2', '#3'],\n",
    "\t\tvalue='All',\n",
    "\t\tdescription='Test Subject:',\n",
    "\t\tdisabled=False\n",
    "\t\t)\n",
    "\tcontrTask = widgets.Select(\n",
    "\t\toptions=['Transcribe', 'Free Conversation', 'All'],\n",
    "\t\tvalue='All',\n",
    "\t\tdescription='Task:',\n",
    "\t\tdisabled=False\n",
    "\t\t)\n",
    "\tcontrTypePerf = widgets.ToggleButtons(\n",
    "\t\toptions=['Speed (wpm)', 'Accuracy (totErrRate)'],\n",
    "\t\tvalue='Speed (wpm)',\n",
    "\t\tdescription='Type performance',\n",
    "\t\tdisabled=False,\n",
    "\t\tbutton_style=''\n",
    "\t\t)\n",
    "\tdisplay(contrSubject, contrTask, contrTypePerf)\n",
    "\n",
    "\t# calculate wpm, total error-rate on sentence, task, subject, keyboard respectively\n",
    "\t# X: keyboard | Y: typing performance | other variables: subject, task\n",
    "\n",
    "\n",
    "\t# plots\n",
    "\t# using ipywidgets to make interactive plots"
   ]
  }
 ],
 "metadata": {
  "kernelspec": {
   "display_name": "Python 3",
   "language": "python",
   "name": "python3"
  },
  "language_info": {
   "codemirror_mode": {
    "name": "ipython",
    "version": 3
   },
   "file_extension": ".py",
   "mimetype": "text/x-python",
   "name": "python",
   "nbconvert_exporter": "python",
   "pygments_lexer": "ipython3",
   "version": "3.6.1"
  }
 },
 "nbformat": 4,
 "nbformat_minor": 2
}
